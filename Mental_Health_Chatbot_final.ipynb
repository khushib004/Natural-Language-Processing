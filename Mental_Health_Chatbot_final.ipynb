{
  "nbformat": 4,
  "nbformat_minor": 0,
  "metadata": {
    "colab": {
      "provenance": [],
      "authorship_tag": "ABX9TyPyz4Jd2AsNIbH84Saq7ubR",
      "include_colab_link": true
    },
    "kernelspec": {
      "name": "python3",
      "display_name": "Python 3"
    },
    "language_info": {
      "name": "python"
    },
    "widgets": {
      "application/vnd.jupyter.widget-state+json": {
        "b8110b066cd44c6d93dcf2686bcf2257": {
          "model_module": "@jupyter-widgets/controls",
          "model_name": "HBoxModel",
          "model_module_version": "1.5.0",
          "state": {
            "_dom_classes": [],
            "_model_module": "@jupyter-widgets/controls",
            "_model_module_version": "1.5.0",
            "_model_name": "HBoxModel",
            "_view_count": null,
            "_view_module": "@jupyter-widgets/controls",
            "_view_module_version": "1.5.0",
            "_view_name": "HBoxView",
            "box_style": "",
            "children": [
              "IPY_MODEL_be0004383a65405c97618adee9259ce9",
              "IPY_MODEL_3f2a5acdfe9a4e66ac48f6c3fe483c84",
              "IPY_MODEL_dc388f4935bf4d95835a66a1fd2026ae"
            ],
            "layout": "IPY_MODEL_a86c03f8a69340038632b17bdd0b378b"
          }
        },
        "be0004383a65405c97618adee9259ce9": {
          "model_module": "@jupyter-widgets/controls",
          "model_name": "HTMLModel",
          "model_module_version": "1.5.0",
          "state": {
            "_dom_classes": [],
            "_model_module": "@jupyter-widgets/controls",
            "_model_module_version": "1.5.0",
            "_model_name": "HTMLModel",
            "_view_count": null,
            "_view_module": "@jupyter-widgets/controls",
            "_view_module_version": "1.5.0",
            "_view_name": "HTMLView",
            "description": "",
            "description_tooltip": null,
            "layout": "IPY_MODEL_b2ff672341954ffd989a2f58872ad3cd",
            "placeholder": "​",
            "style": "IPY_MODEL_b921b40e6ecb46c68e082c545e2390ac",
            "value": "tokenizer_config.json: 100%"
          }
        },
        "3f2a5acdfe9a4e66ac48f6c3fe483c84": {
          "model_module": "@jupyter-widgets/controls",
          "model_name": "FloatProgressModel",
          "model_module_version": "1.5.0",
          "state": {
            "_dom_classes": [],
            "_model_module": "@jupyter-widgets/controls",
            "_model_module_version": "1.5.0",
            "_model_name": "FloatProgressModel",
            "_view_count": null,
            "_view_module": "@jupyter-widgets/controls",
            "_view_module_version": "1.5.0",
            "_view_name": "ProgressView",
            "bar_style": "success",
            "description": "",
            "description_tooltip": null,
            "layout": "IPY_MODEL_c489dc740a4240e59906486375e53692",
            "max": 48,
            "min": 0,
            "orientation": "horizontal",
            "style": "IPY_MODEL_7d2c44356df147e68d5ce6901802e4fb",
            "value": 48
          }
        },
        "dc388f4935bf4d95835a66a1fd2026ae": {
          "model_module": "@jupyter-widgets/controls",
          "model_name": "HTMLModel",
          "model_module_version": "1.5.0",
          "state": {
            "_dom_classes": [],
            "_model_module": "@jupyter-widgets/controls",
            "_model_module_version": "1.5.0",
            "_model_name": "HTMLModel",
            "_view_count": null,
            "_view_module": "@jupyter-widgets/controls",
            "_view_module_version": "1.5.0",
            "_view_name": "HTMLView",
            "description": "",
            "description_tooltip": null,
            "layout": "IPY_MODEL_7cd1f3c822094ce0a442c4d1b073fdbc",
            "placeholder": "​",
            "style": "IPY_MODEL_3f10b6e8d2eb4cdb9a75e65cd4f72c05",
            "value": " 48.0/48.0 [00:00&lt;00:00, 2.09kB/s]"
          }
        },
        "a86c03f8a69340038632b17bdd0b378b": {
          "model_module": "@jupyter-widgets/base",
          "model_name": "LayoutModel",
          "model_module_version": "1.2.0",
          "state": {
            "_model_module": "@jupyter-widgets/base",
            "_model_module_version": "1.2.0",
            "_model_name": "LayoutModel",
            "_view_count": null,
            "_view_module": "@jupyter-widgets/base",
            "_view_module_version": "1.2.0",
            "_view_name": "LayoutView",
            "align_content": null,
            "align_items": null,
            "align_self": null,
            "border": null,
            "bottom": null,
            "display": null,
            "flex": null,
            "flex_flow": null,
            "grid_area": null,
            "grid_auto_columns": null,
            "grid_auto_flow": null,
            "grid_auto_rows": null,
            "grid_column": null,
            "grid_gap": null,
            "grid_row": null,
            "grid_template_areas": null,
            "grid_template_columns": null,
            "grid_template_rows": null,
            "height": null,
            "justify_content": null,
            "justify_items": null,
            "left": null,
            "margin": null,
            "max_height": null,
            "max_width": null,
            "min_height": null,
            "min_width": null,
            "object_fit": null,
            "object_position": null,
            "order": null,
            "overflow": null,
            "overflow_x": null,
            "overflow_y": null,
            "padding": null,
            "right": null,
            "top": null,
            "visibility": null,
            "width": null
          }
        },
        "b2ff672341954ffd989a2f58872ad3cd": {
          "model_module": "@jupyter-widgets/base",
          "model_name": "LayoutModel",
          "model_module_version": "1.2.0",
          "state": {
            "_model_module": "@jupyter-widgets/base",
            "_model_module_version": "1.2.0",
            "_model_name": "LayoutModel",
            "_view_count": null,
            "_view_module": "@jupyter-widgets/base",
            "_view_module_version": "1.2.0",
            "_view_name": "LayoutView",
            "align_content": null,
            "align_items": null,
            "align_self": null,
            "border": null,
            "bottom": null,
            "display": null,
            "flex": null,
            "flex_flow": null,
            "grid_area": null,
            "grid_auto_columns": null,
            "grid_auto_flow": null,
            "grid_auto_rows": null,
            "grid_column": null,
            "grid_gap": null,
            "grid_row": null,
            "grid_template_areas": null,
            "grid_template_columns": null,
            "grid_template_rows": null,
            "height": null,
            "justify_content": null,
            "justify_items": null,
            "left": null,
            "margin": null,
            "max_height": null,
            "max_width": null,
            "min_height": null,
            "min_width": null,
            "object_fit": null,
            "object_position": null,
            "order": null,
            "overflow": null,
            "overflow_x": null,
            "overflow_y": null,
            "padding": null,
            "right": null,
            "top": null,
            "visibility": null,
            "width": null
          }
        },
        "b921b40e6ecb46c68e082c545e2390ac": {
          "model_module": "@jupyter-widgets/controls",
          "model_name": "DescriptionStyleModel",
          "model_module_version": "1.5.0",
          "state": {
            "_model_module": "@jupyter-widgets/controls",
            "_model_module_version": "1.5.0",
            "_model_name": "DescriptionStyleModel",
            "_view_count": null,
            "_view_module": "@jupyter-widgets/base",
            "_view_module_version": "1.2.0",
            "_view_name": "StyleView",
            "description_width": ""
          }
        },
        "c489dc740a4240e59906486375e53692": {
          "model_module": "@jupyter-widgets/base",
          "model_name": "LayoutModel",
          "model_module_version": "1.2.0",
          "state": {
            "_model_module": "@jupyter-widgets/base",
            "_model_module_version": "1.2.0",
            "_model_name": "LayoutModel",
            "_view_count": null,
            "_view_module": "@jupyter-widgets/base",
            "_view_module_version": "1.2.0",
            "_view_name": "LayoutView",
            "align_content": null,
            "align_items": null,
            "align_self": null,
            "border": null,
            "bottom": null,
            "display": null,
            "flex": null,
            "flex_flow": null,
            "grid_area": null,
            "grid_auto_columns": null,
            "grid_auto_flow": null,
            "grid_auto_rows": null,
            "grid_column": null,
            "grid_gap": null,
            "grid_row": null,
            "grid_template_areas": null,
            "grid_template_columns": null,
            "grid_template_rows": null,
            "height": null,
            "justify_content": null,
            "justify_items": null,
            "left": null,
            "margin": null,
            "max_height": null,
            "max_width": null,
            "min_height": null,
            "min_width": null,
            "object_fit": null,
            "object_position": null,
            "order": null,
            "overflow": null,
            "overflow_x": null,
            "overflow_y": null,
            "padding": null,
            "right": null,
            "top": null,
            "visibility": null,
            "width": null
          }
        },
        "7d2c44356df147e68d5ce6901802e4fb": {
          "model_module": "@jupyter-widgets/controls",
          "model_name": "ProgressStyleModel",
          "model_module_version": "1.5.0",
          "state": {
            "_model_module": "@jupyter-widgets/controls",
            "_model_module_version": "1.5.0",
            "_model_name": "ProgressStyleModel",
            "_view_count": null,
            "_view_module": "@jupyter-widgets/base",
            "_view_module_version": "1.2.0",
            "_view_name": "StyleView",
            "bar_color": null,
            "description_width": ""
          }
        },
        "7cd1f3c822094ce0a442c4d1b073fdbc": {
          "model_module": "@jupyter-widgets/base",
          "model_name": "LayoutModel",
          "model_module_version": "1.2.0",
          "state": {
            "_model_module": "@jupyter-widgets/base",
            "_model_module_version": "1.2.0",
            "_model_name": "LayoutModel",
            "_view_count": null,
            "_view_module": "@jupyter-widgets/base",
            "_view_module_version": "1.2.0",
            "_view_name": "LayoutView",
            "align_content": null,
            "align_items": null,
            "align_self": null,
            "border": null,
            "bottom": null,
            "display": null,
            "flex": null,
            "flex_flow": null,
            "grid_area": null,
            "grid_auto_columns": null,
            "grid_auto_flow": null,
            "grid_auto_rows": null,
            "grid_column": null,
            "grid_gap": null,
            "grid_row": null,
            "grid_template_areas": null,
            "grid_template_columns": null,
            "grid_template_rows": null,
            "height": null,
            "justify_content": null,
            "justify_items": null,
            "left": null,
            "margin": null,
            "max_height": null,
            "max_width": null,
            "min_height": null,
            "min_width": null,
            "object_fit": null,
            "object_position": null,
            "order": null,
            "overflow": null,
            "overflow_x": null,
            "overflow_y": null,
            "padding": null,
            "right": null,
            "top": null,
            "visibility": null,
            "width": null
          }
        },
        "3f10b6e8d2eb4cdb9a75e65cd4f72c05": {
          "model_module": "@jupyter-widgets/controls",
          "model_name": "DescriptionStyleModel",
          "model_module_version": "1.5.0",
          "state": {
            "_model_module": "@jupyter-widgets/controls",
            "_model_module_version": "1.5.0",
            "_model_name": "DescriptionStyleModel",
            "_view_count": null,
            "_view_module": "@jupyter-widgets/base",
            "_view_module_version": "1.2.0",
            "_view_name": "StyleView",
            "description_width": ""
          }
        },
        "0c12caab8bb9465b90cabba856aa2b77": {
          "model_module": "@jupyter-widgets/controls",
          "model_name": "HBoxModel",
          "model_module_version": "1.5.0",
          "state": {
            "_dom_classes": [],
            "_model_module": "@jupyter-widgets/controls",
            "_model_module_version": "1.5.0",
            "_model_name": "HBoxModel",
            "_view_count": null,
            "_view_module": "@jupyter-widgets/controls",
            "_view_module_version": "1.5.0",
            "_view_name": "HBoxView",
            "box_style": "",
            "children": [
              "IPY_MODEL_64ae7e44922b4176a643e82554539868",
              "IPY_MODEL_d99b2a1f855d433e85daab73ac6d66ba",
              "IPY_MODEL_c0a8d94e7a1f497682b32d0028d2ed1a"
            ],
            "layout": "IPY_MODEL_2a17d658b0d84bb0a87a223c901b724d"
          }
        },
        "64ae7e44922b4176a643e82554539868": {
          "model_module": "@jupyter-widgets/controls",
          "model_name": "HTMLModel",
          "model_module_version": "1.5.0",
          "state": {
            "_dom_classes": [],
            "_model_module": "@jupyter-widgets/controls",
            "_model_module_version": "1.5.0",
            "_model_name": "HTMLModel",
            "_view_count": null,
            "_view_module": "@jupyter-widgets/controls",
            "_view_module_version": "1.5.0",
            "_view_name": "HTMLView",
            "description": "",
            "description_tooltip": null,
            "layout": "IPY_MODEL_e9f34ed1c8db455884ccf8ef07f5f414",
            "placeholder": "​",
            "style": "IPY_MODEL_e1c8caa26d90479e9dcf1fc1144e0be8",
            "value": "vocab.txt: 100%"
          }
        },
        "d99b2a1f855d433e85daab73ac6d66ba": {
          "model_module": "@jupyter-widgets/controls",
          "model_name": "FloatProgressModel",
          "model_module_version": "1.5.0",
          "state": {
            "_dom_classes": [],
            "_model_module": "@jupyter-widgets/controls",
            "_model_module_version": "1.5.0",
            "_model_name": "FloatProgressModel",
            "_view_count": null,
            "_view_module": "@jupyter-widgets/controls",
            "_view_module_version": "1.5.0",
            "_view_name": "ProgressView",
            "bar_style": "success",
            "description": "",
            "description_tooltip": null,
            "layout": "IPY_MODEL_a7e13b9621d34bbba5c42f19abaa523d",
            "max": 231508,
            "min": 0,
            "orientation": "horizontal",
            "style": "IPY_MODEL_0c627fe970f3438d82f8a9f2544267c2",
            "value": 231508
          }
        },
        "c0a8d94e7a1f497682b32d0028d2ed1a": {
          "model_module": "@jupyter-widgets/controls",
          "model_name": "HTMLModel",
          "model_module_version": "1.5.0",
          "state": {
            "_dom_classes": [],
            "_model_module": "@jupyter-widgets/controls",
            "_model_module_version": "1.5.0",
            "_model_name": "HTMLModel",
            "_view_count": null,
            "_view_module": "@jupyter-widgets/controls",
            "_view_module_version": "1.5.0",
            "_view_name": "HTMLView",
            "description": "",
            "description_tooltip": null,
            "layout": "IPY_MODEL_9f3fba299c0841b9b9b0101161008e7e",
            "placeholder": "​",
            "style": "IPY_MODEL_4ad744b877914ba0bbba443a035b6924",
            "value": " 232k/232k [00:00&lt;00:00, 3.83MB/s]"
          }
        },
        "2a17d658b0d84bb0a87a223c901b724d": {
          "model_module": "@jupyter-widgets/base",
          "model_name": "LayoutModel",
          "model_module_version": "1.2.0",
          "state": {
            "_model_module": "@jupyter-widgets/base",
            "_model_module_version": "1.2.0",
            "_model_name": "LayoutModel",
            "_view_count": null,
            "_view_module": "@jupyter-widgets/base",
            "_view_module_version": "1.2.0",
            "_view_name": "LayoutView",
            "align_content": null,
            "align_items": null,
            "align_self": null,
            "border": null,
            "bottom": null,
            "display": null,
            "flex": null,
            "flex_flow": null,
            "grid_area": null,
            "grid_auto_columns": null,
            "grid_auto_flow": null,
            "grid_auto_rows": null,
            "grid_column": null,
            "grid_gap": null,
            "grid_row": null,
            "grid_template_areas": null,
            "grid_template_columns": null,
            "grid_template_rows": null,
            "height": null,
            "justify_content": null,
            "justify_items": null,
            "left": null,
            "margin": null,
            "max_height": null,
            "max_width": null,
            "min_height": null,
            "min_width": null,
            "object_fit": null,
            "object_position": null,
            "order": null,
            "overflow": null,
            "overflow_x": null,
            "overflow_y": null,
            "padding": null,
            "right": null,
            "top": null,
            "visibility": null,
            "width": null
          }
        },
        "e9f34ed1c8db455884ccf8ef07f5f414": {
          "model_module": "@jupyter-widgets/base",
          "model_name": "LayoutModel",
          "model_module_version": "1.2.0",
          "state": {
            "_model_module": "@jupyter-widgets/base",
            "_model_module_version": "1.2.0",
            "_model_name": "LayoutModel",
            "_view_count": null,
            "_view_module": "@jupyter-widgets/base",
            "_view_module_version": "1.2.0",
            "_view_name": "LayoutView",
            "align_content": null,
            "align_items": null,
            "align_self": null,
            "border": null,
            "bottom": null,
            "display": null,
            "flex": null,
            "flex_flow": null,
            "grid_area": null,
            "grid_auto_columns": null,
            "grid_auto_flow": null,
            "grid_auto_rows": null,
            "grid_column": null,
            "grid_gap": null,
            "grid_row": null,
            "grid_template_areas": null,
            "grid_template_columns": null,
            "grid_template_rows": null,
            "height": null,
            "justify_content": null,
            "justify_items": null,
            "left": null,
            "margin": null,
            "max_height": null,
            "max_width": null,
            "min_height": null,
            "min_width": null,
            "object_fit": null,
            "object_position": null,
            "order": null,
            "overflow": null,
            "overflow_x": null,
            "overflow_y": null,
            "padding": null,
            "right": null,
            "top": null,
            "visibility": null,
            "width": null
          }
        },
        "e1c8caa26d90479e9dcf1fc1144e0be8": {
          "model_module": "@jupyter-widgets/controls",
          "model_name": "DescriptionStyleModel",
          "model_module_version": "1.5.0",
          "state": {
            "_model_module": "@jupyter-widgets/controls",
            "_model_module_version": "1.5.0",
            "_model_name": "DescriptionStyleModel",
            "_view_count": null,
            "_view_module": "@jupyter-widgets/base",
            "_view_module_version": "1.2.0",
            "_view_name": "StyleView",
            "description_width": ""
          }
        },
        "a7e13b9621d34bbba5c42f19abaa523d": {
          "model_module": "@jupyter-widgets/base",
          "model_name": "LayoutModel",
          "model_module_version": "1.2.0",
          "state": {
            "_model_module": "@jupyter-widgets/base",
            "_model_module_version": "1.2.0",
            "_model_name": "LayoutModel",
            "_view_count": null,
            "_view_module": "@jupyter-widgets/base",
            "_view_module_version": "1.2.0",
            "_view_name": "LayoutView",
            "align_content": null,
            "align_items": null,
            "align_self": null,
            "border": null,
            "bottom": null,
            "display": null,
            "flex": null,
            "flex_flow": null,
            "grid_area": null,
            "grid_auto_columns": null,
            "grid_auto_flow": null,
            "grid_auto_rows": null,
            "grid_column": null,
            "grid_gap": null,
            "grid_row": null,
            "grid_template_areas": null,
            "grid_template_columns": null,
            "grid_template_rows": null,
            "height": null,
            "justify_content": null,
            "justify_items": null,
            "left": null,
            "margin": null,
            "max_height": null,
            "max_width": null,
            "min_height": null,
            "min_width": null,
            "object_fit": null,
            "object_position": null,
            "order": null,
            "overflow": null,
            "overflow_x": null,
            "overflow_y": null,
            "padding": null,
            "right": null,
            "top": null,
            "visibility": null,
            "width": null
          }
        },
        "0c627fe970f3438d82f8a9f2544267c2": {
          "model_module": "@jupyter-widgets/controls",
          "model_name": "ProgressStyleModel",
          "model_module_version": "1.5.0",
          "state": {
            "_model_module": "@jupyter-widgets/controls",
            "_model_module_version": "1.5.0",
            "_model_name": "ProgressStyleModel",
            "_view_count": null,
            "_view_module": "@jupyter-widgets/base",
            "_view_module_version": "1.2.0",
            "_view_name": "StyleView",
            "bar_color": null,
            "description_width": ""
          }
        },
        "9f3fba299c0841b9b9b0101161008e7e": {
          "model_module": "@jupyter-widgets/base",
          "model_name": "LayoutModel",
          "model_module_version": "1.2.0",
          "state": {
            "_model_module": "@jupyter-widgets/base",
            "_model_module_version": "1.2.0",
            "_model_name": "LayoutModel",
            "_view_count": null,
            "_view_module": "@jupyter-widgets/base",
            "_view_module_version": "1.2.0",
            "_view_name": "LayoutView",
            "align_content": null,
            "align_items": null,
            "align_self": null,
            "border": null,
            "bottom": null,
            "display": null,
            "flex": null,
            "flex_flow": null,
            "grid_area": null,
            "grid_auto_columns": null,
            "grid_auto_flow": null,
            "grid_auto_rows": null,
            "grid_column": null,
            "grid_gap": null,
            "grid_row": null,
            "grid_template_areas": null,
            "grid_template_columns": null,
            "grid_template_rows": null,
            "height": null,
            "justify_content": null,
            "justify_items": null,
            "left": null,
            "margin": null,
            "max_height": null,
            "max_width": null,
            "min_height": null,
            "min_width": null,
            "object_fit": null,
            "object_position": null,
            "order": null,
            "overflow": null,
            "overflow_x": null,
            "overflow_y": null,
            "padding": null,
            "right": null,
            "top": null,
            "visibility": null,
            "width": null
          }
        },
        "4ad744b877914ba0bbba443a035b6924": {
          "model_module": "@jupyter-widgets/controls",
          "model_name": "DescriptionStyleModel",
          "model_module_version": "1.5.0",
          "state": {
            "_model_module": "@jupyter-widgets/controls",
            "_model_module_version": "1.5.0",
            "_model_name": "DescriptionStyleModel",
            "_view_count": null,
            "_view_module": "@jupyter-widgets/base",
            "_view_module_version": "1.2.0",
            "_view_name": "StyleView",
            "description_width": ""
          }
        },
        "9fde1b33b42f4386b2ef99a29554e98b": {
          "model_module": "@jupyter-widgets/controls",
          "model_name": "HBoxModel",
          "model_module_version": "1.5.0",
          "state": {
            "_dom_classes": [],
            "_model_module": "@jupyter-widgets/controls",
            "_model_module_version": "1.5.0",
            "_model_name": "HBoxModel",
            "_view_count": null,
            "_view_module": "@jupyter-widgets/controls",
            "_view_module_version": "1.5.0",
            "_view_name": "HBoxView",
            "box_style": "",
            "children": [
              "IPY_MODEL_6a55c4a0dab840329c7d9bb0635375cc",
              "IPY_MODEL_e4ed1595eb0d4a1eb4e90f784eef3cc4",
              "IPY_MODEL_4870462dcba042f08a7f00358048161a"
            ],
            "layout": "IPY_MODEL_a42c11d328c34f6fb2eb01517ba0176c"
          }
        },
        "6a55c4a0dab840329c7d9bb0635375cc": {
          "model_module": "@jupyter-widgets/controls",
          "model_name": "HTMLModel",
          "model_module_version": "1.5.0",
          "state": {
            "_dom_classes": [],
            "_model_module": "@jupyter-widgets/controls",
            "_model_module_version": "1.5.0",
            "_model_name": "HTMLModel",
            "_view_count": null,
            "_view_module": "@jupyter-widgets/controls",
            "_view_module_version": "1.5.0",
            "_view_name": "HTMLView",
            "description": "",
            "description_tooltip": null,
            "layout": "IPY_MODEL_4a6713d1406b4ed89ef8e67e68e74443",
            "placeholder": "​",
            "style": "IPY_MODEL_a20f143d69394b18b1a58faf829cebcb",
            "value": "tokenizer.json: 100%"
          }
        },
        "e4ed1595eb0d4a1eb4e90f784eef3cc4": {
          "model_module": "@jupyter-widgets/controls",
          "model_name": "FloatProgressModel",
          "model_module_version": "1.5.0",
          "state": {
            "_dom_classes": [],
            "_model_module": "@jupyter-widgets/controls",
            "_model_module_version": "1.5.0",
            "_model_name": "FloatProgressModel",
            "_view_count": null,
            "_view_module": "@jupyter-widgets/controls",
            "_view_module_version": "1.5.0",
            "_view_name": "ProgressView",
            "bar_style": "success",
            "description": "",
            "description_tooltip": null,
            "layout": "IPY_MODEL_1a2f735e1adb46c693cc63a23fac748f",
            "max": 466062,
            "min": 0,
            "orientation": "horizontal",
            "style": "IPY_MODEL_23e57f5baa0e41fe80b05130f93bc887",
            "value": 466062
          }
        },
        "4870462dcba042f08a7f00358048161a": {
          "model_module": "@jupyter-widgets/controls",
          "model_name": "HTMLModel",
          "model_module_version": "1.5.0",
          "state": {
            "_dom_classes": [],
            "_model_module": "@jupyter-widgets/controls",
            "_model_module_version": "1.5.0",
            "_model_name": "HTMLModel",
            "_view_count": null,
            "_view_module": "@jupyter-widgets/controls",
            "_view_module_version": "1.5.0",
            "_view_name": "HTMLView",
            "description": "",
            "description_tooltip": null,
            "layout": "IPY_MODEL_28110dc946c24f299f99c714ac513a06",
            "placeholder": "​",
            "style": "IPY_MODEL_e8dda0282eaa464d9ab27b407fd996a6",
            "value": " 466k/466k [00:00&lt;00:00, 11.2MB/s]"
          }
        },
        "a42c11d328c34f6fb2eb01517ba0176c": {
          "model_module": "@jupyter-widgets/base",
          "model_name": "LayoutModel",
          "model_module_version": "1.2.0",
          "state": {
            "_model_module": "@jupyter-widgets/base",
            "_model_module_version": "1.2.0",
            "_model_name": "LayoutModel",
            "_view_count": null,
            "_view_module": "@jupyter-widgets/base",
            "_view_module_version": "1.2.0",
            "_view_name": "LayoutView",
            "align_content": null,
            "align_items": null,
            "align_self": null,
            "border": null,
            "bottom": null,
            "display": null,
            "flex": null,
            "flex_flow": null,
            "grid_area": null,
            "grid_auto_columns": null,
            "grid_auto_flow": null,
            "grid_auto_rows": null,
            "grid_column": null,
            "grid_gap": null,
            "grid_row": null,
            "grid_template_areas": null,
            "grid_template_columns": null,
            "grid_template_rows": null,
            "height": null,
            "justify_content": null,
            "justify_items": null,
            "left": null,
            "margin": null,
            "max_height": null,
            "max_width": null,
            "min_height": null,
            "min_width": null,
            "object_fit": null,
            "object_position": null,
            "order": null,
            "overflow": null,
            "overflow_x": null,
            "overflow_y": null,
            "padding": null,
            "right": null,
            "top": null,
            "visibility": null,
            "width": null
          }
        },
        "4a6713d1406b4ed89ef8e67e68e74443": {
          "model_module": "@jupyter-widgets/base",
          "model_name": "LayoutModel",
          "model_module_version": "1.2.0",
          "state": {
            "_model_module": "@jupyter-widgets/base",
            "_model_module_version": "1.2.0",
            "_model_name": "LayoutModel",
            "_view_count": null,
            "_view_module": "@jupyter-widgets/base",
            "_view_module_version": "1.2.0",
            "_view_name": "LayoutView",
            "align_content": null,
            "align_items": null,
            "align_self": null,
            "border": null,
            "bottom": null,
            "display": null,
            "flex": null,
            "flex_flow": null,
            "grid_area": null,
            "grid_auto_columns": null,
            "grid_auto_flow": null,
            "grid_auto_rows": null,
            "grid_column": null,
            "grid_gap": null,
            "grid_row": null,
            "grid_template_areas": null,
            "grid_template_columns": null,
            "grid_template_rows": null,
            "height": null,
            "justify_content": null,
            "justify_items": null,
            "left": null,
            "margin": null,
            "max_height": null,
            "max_width": null,
            "min_height": null,
            "min_width": null,
            "object_fit": null,
            "object_position": null,
            "order": null,
            "overflow": null,
            "overflow_x": null,
            "overflow_y": null,
            "padding": null,
            "right": null,
            "top": null,
            "visibility": null,
            "width": null
          }
        },
        "a20f143d69394b18b1a58faf829cebcb": {
          "model_module": "@jupyter-widgets/controls",
          "model_name": "DescriptionStyleModel",
          "model_module_version": "1.5.0",
          "state": {
            "_model_module": "@jupyter-widgets/controls",
            "_model_module_version": "1.5.0",
            "_model_name": "DescriptionStyleModel",
            "_view_count": null,
            "_view_module": "@jupyter-widgets/base",
            "_view_module_version": "1.2.0",
            "_view_name": "StyleView",
            "description_width": ""
          }
        },
        "1a2f735e1adb46c693cc63a23fac748f": {
          "model_module": "@jupyter-widgets/base",
          "model_name": "LayoutModel",
          "model_module_version": "1.2.0",
          "state": {
            "_model_module": "@jupyter-widgets/base",
            "_model_module_version": "1.2.0",
            "_model_name": "LayoutModel",
            "_view_count": null,
            "_view_module": "@jupyter-widgets/base",
            "_view_module_version": "1.2.0",
            "_view_name": "LayoutView",
            "align_content": null,
            "align_items": null,
            "align_self": null,
            "border": null,
            "bottom": null,
            "display": null,
            "flex": null,
            "flex_flow": null,
            "grid_area": null,
            "grid_auto_columns": null,
            "grid_auto_flow": null,
            "grid_auto_rows": null,
            "grid_column": null,
            "grid_gap": null,
            "grid_row": null,
            "grid_template_areas": null,
            "grid_template_columns": null,
            "grid_template_rows": null,
            "height": null,
            "justify_content": null,
            "justify_items": null,
            "left": null,
            "margin": null,
            "max_height": null,
            "max_width": null,
            "min_height": null,
            "min_width": null,
            "object_fit": null,
            "object_position": null,
            "order": null,
            "overflow": null,
            "overflow_x": null,
            "overflow_y": null,
            "padding": null,
            "right": null,
            "top": null,
            "visibility": null,
            "width": null
          }
        },
        "23e57f5baa0e41fe80b05130f93bc887": {
          "model_module": "@jupyter-widgets/controls",
          "model_name": "ProgressStyleModel",
          "model_module_version": "1.5.0",
          "state": {
            "_model_module": "@jupyter-widgets/controls",
            "_model_module_version": "1.5.0",
            "_model_name": "ProgressStyleModel",
            "_view_count": null,
            "_view_module": "@jupyter-widgets/base",
            "_view_module_version": "1.2.0",
            "_view_name": "StyleView",
            "bar_color": null,
            "description_width": ""
          }
        },
        "28110dc946c24f299f99c714ac513a06": {
          "model_module": "@jupyter-widgets/base",
          "model_name": "LayoutModel",
          "model_module_version": "1.2.0",
          "state": {
            "_model_module": "@jupyter-widgets/base",
            "_model_module_version": "1.2.0",
            "_model_name": "LayoutModel",
            "_view_count": null,
            "_view_module": "@jupyter-widgets/base",
            "_view_module_version": "1.2.0",
            "_view_name": "LayoutView",
            "align_content": null,
            "align_items": null,
            "align_self": null,
            "border": null,
            "bottom": null,
            "display": null,
            "flex": null,
            "flex_flow": null,
            "grid_area": null,
            "grid_auto_columns": null,
            "grid_auto_flow": null,
            "grid_auto_rows": null,
            "grid_column": null,
            "grid_gap": null,
            "grid_row": null,
            "grid_template_areas": null,
            "grid_template_columns": null,
            "grid_template_rows": null,
            "height": null,
            "justify_content": null,
            "justify_items": null,
            "left": null,
            "margin": null,
            "max_height": null,
            "max_width": null,
            "min_height": null,
            "min_width": null,
            "object_fit": null,
            "object_position": null,
            "order": null,
            "overflow": null,
            "overflow_x": null,
            "overflow_y": null,
            "padding": null,
            "right": null,
            "top": null,
            "visibility": null,
            "width": null
          }
        },
        "e8dda0282eaa464d9ab27b407fd996a6": {
          "model_module": "@jupyter-widgets/controls",
          "model_name": "DescriptionStyleModel",
          "model_module_version": "1.5.0",
          "state": {
            "_model_module": "@jupyter-widgets/controls",
            "_model_module_version": "1.5.0",
            "_model_name": "DescriptionStyleModel",
            "_view_count": null,
            "_view_module": "@jupyter-widgets/base",
            "_view_module_version": "1.2.0",
            "_view_name": "StyleView",
            "description_width": ""
          }
        },
        "0ee2de1540ff4ccdae0bc60f084881fd": {
          "model_module": "@jupyter-widgets/controls",
          "model_name": "HBoxModel",
          "model_module_version": "1.5.0",
          "state": {
            "_dom_classes": [],
            "_model_module": "@jupyter-widgets/controls",
            "_model_module_version": "1.5.0",
            "_model_name": "HBoxModel",
            "_view_count": null,
            "_view_module": "@jupyter-widgets/controls",
            "_view_module_version": "1.5.0",
            "_view_name": "HBoxView",
            "box_style": "",
            "children": [
              "IPY_MODEL_e311dab96eac422ea3588ee09af295ff",
              "IPY_MODEL_e8437da091614688907e3f5e243cd8f8",
              "IPY_MODEL_4d588188153a4b83b7a23ea9c2130d93"
            ],
            "layout": "IPY_MODEL_ffb61fe27890478c8c984b653228c4e9"
          }
        },
        "e311dab96eac422ea3588ee09af295ff": {
          "model_module": "@jupyter-widgets/controls",
          "model_name": "HTMLModel",
          "model_module_version": "1.5.0",
          "state": {
            "_dom_classes": [],
            "_model_module": "@jupyter-widgets/controls",
            "_model_module_version": "1.5.0",
            "_model_name": "HTMLModel",
            "_view_count": null,
            "_view_module": "@jupyter-widgets/controls",
            "_view_module_version": "1.5.0",
            "_view_name": "HTMLView",
            "description": "",
            "description_tooltip": null,
            "layout": "IPY_MODEL_c3d9dd2e513b4115baff18c4d8ffee88",
            "placeholder": "​",
            "style": "IPY_MODEL_69bdd630cf164bbba093101be0d127d0",
            "value": "config.json: 100%"
          }
        },
        "e8437da091614688907e3f5e243cd8f8": {
          "model_module": "@jupyter-widgets/controls",
          "model_name": "FloatProgressModel",
          "model_module_version": "1.5.0",
          "state": {
            "_dom_classes": [],
            "_model_module": "@jupyter-widgets/controls",
            "_model_module_version": "1.5.0",
            "_model_name": "FloatProgressModel",
            "_view_count": null,
            "_view_module": "@jupyter-widgets/controls",
            "_view_module_version": "1.5.0",
            "_view_name": "ProgressView",
            "bar_style": "success",
            "description": "",
            "description_tooltip": null,
            "layout": "IPY_MODEL_5b35dd69065a4d9dad99ceaf9cf083aa",
            "max": 570,
            "min": 0,
            "orientation": "horizontal",
            "style": "IPY_MODEL_b32c839985c34cddb5e7327d54629b2f",
            "value": 570
          }
        },
        "4d588188153a4b83b7a23ea9c2130d93": {
          "model_module": "@jupyter-widgets/controls",
          "model_name": "HTMLModel",
          "model_module_version": "1.5.0",
          "state": {
            "_dom_classes": [],
            "_model_module": "@jupyter-widgets/controls",
            "_model_module_version": "1.5.0",
            "_model_name": "HTMLModel",
            "_view_count": null,
            "_view_module": "@jupyter-widgets/controls",
            "_view_module_version": "1.5.0",
            "_view_name": "HTMLView",
            "description": "",
            "description_tooltip": null,
            "layout": "IPY_MODEL_4b036f9f6719434a837f301314e2797b",
            "placeholder": "​",
            "style": "IPY_MODEL_f6cb9044a3574b83b1369c790247c685",
            "value": " 570/570 [00:00&lt;00:00, 13.4kB/s]"
          }
        },
        "ffb61fe27890478c8c984b653228c4e9": {
          "model_module": "@jupyter-widgets/base",
          "model_name": "LayoutModel",
          "model_module_version": "1.2.0",
          "state": {
            "_model_module": "@jupyter-widgets/base",
            "_model_module_version": "1.2.0",
            "_model_name": "LayoutModel",
            "_view_count": null,
            "_view_module": "@jupyter-widgets/base",
            "_view_module_version": "1.2.0",
            "_view_name": "LayoutView",
            "align_content": null,
            "align_items": null,
            "align_self": null,
            "border": null,
            "bottom": null,
            "display": null,
            "flex": null,
            "flex_flow": null,
            "grid_area": null,
            "grid_auto_columns": null,
            "grid_auto_flow": null,
            "grid_auto_rows": null,
            "grid_column": null,
            "grid_gap": null,
            "grid_row": null,
            "grid_template_areas": null,
            "grid_template_columns": null,
            "grid_template_rows": null,
            "height": null,
            "justify_content": null,
            "justify_items": null,
            "left": null,
            "margin": null,
            "max_height": null,
            "max_width": null,
            "min_height": null,
            "min_width": null,
            "object_fit": null,
            "object_position": null,
            "order": null,
            "overflow": null,
            "overflow_x": null,
            "overflow_y": null,
            "padding": null,
            "right": null,
            "top": null,
            "visibility": null,
            "width": null
          }
        },
        "c3d9dd2e513b4115baff18c4d8ffee88": {
          "model_module": "@jupyter-widgets/base",
          "model_name": "LayoutModel",
          "model_module_version": "1.2.0",
          "state": {
            "_model_module": "@jupyter-widgets/base",
            "_model_module_version": "1.2.0",
            "_model_name": "LayoutModel",
            "_view_count": null,
            "_view_module": "@jupyter-widgets/base",
            "_view_module_version": "1.2.0",
            "_view_name": "LayoutView",
            "align_content": null,
            "align_items": null,
            "align_self": null,
            "border": null,
            "bottom": null,
            "display": null,
            "flex": null,
            "flex_flow": null,
            "grid_area": null,
            "grid_auto_columns": null,
            "grid_auto_flow": null,
            "grid_auto_rows": null,
            "grid_column": null,
            "grid_gap": null,
            "grid_row": null,
            "grid_template_areas": null,
            "grid_template_columns": null,
            "grid_template_rows": null,
            "height": null,
            "justify_content": null,
            "justify_items": null,
            "left": null,
            "margin": null,
            "max_height": null,
            "max_width": null,
            "min_height": null,
            "min_width": null,
            "object_fit": null,
            "object_position": null,
            "order": null,
            "overflow": null,
            "overflow_x": null,
            "overflow_y": null,
            "padding": null,
            "right": null,
            "top": null,
            "visibility": null,
            "width": null
          }
        },
        "69bdd630cf164bbba093101be0d127d0": {
          "model_module": "@jupyter-widgets/controls",
          "model_name": "DescriptionStyleModel",
          "model_module_version": "1.5.0",
          "state": {
            "_model_module": "@jupyter-widgets/controls",
            "_model_module_version": "1.5.0",
            "_model_name": "DescriptionStyleModel",
            "_view_count": null,
            "_view_module": "@jupyter-widgets/base",
            "_view_module_version": "1.2.0",
            "_view_name": "StyleView",
            "description_width": ""
          }
        },
        "5b35dd69065a4d9dad99ceaf9cf083aa": {
          "model_module": "@jupyter-widgets/base",
          "model_name": "LayoutModel",
          "model_module_version": "1.2.0",
          "state": {
            "_model_module": "@jupyter-widgets/base",
            "_model_module_version": "1.2.0",
            "_model_name": "LayoutModel",
            "_view_count": null,
            "_view_module": "@jupyter-widgets/base",
            "_view_module_version": "1.2.0",
            "_view_name": "LayoutView",
            "align_content": null,
            "align_items": null,
            "align_self": null,
            "border": null,
            "bottom": null,
            "display": null,
            "flex": null,
            "flex_flow": null,
            "grid_area": null,
            "grid_auto_columns": null,
            "grid_auto_flow": null,
            "grid_auto_rows": null,
            "grid_column": null,
            "grid_gap": null,
            "grid_row": null,
            "grid_template_areas": null,
            "grid_template_columns": null,
            "grid_template_rows": null,
            "height": null,
            "justify_content": null,
            "justify_items": null,
            "left": null,
            "margin": null,
            "max_height": null,
            "max_width": null,
            "min_height": null,
            "min_width": null,
            "object_fit": null,
            "object_position": null,
            "order": null,
            "overflow": null,
            "overflow_x": null,
            "overflow_y": null,
            "padding": null,
            "right": null,
            "top": null,
            "visibility": null,
            "width": null
          }
        },
        "b32c839985c34cddb5e7327d54629b2f": {
          "model_module": "@jupyter-widgets/controls",
          "model_name": "ProgressStyleModel",
          "model_module_version": "1.5.0",
          "state": {
            "_model_module": "@jupyter-widgets/controls",
            "_model_module_version": "1.5.0",
            "_model_name": "ProgressStyleModel",
            "_view_count": null,
            "_view_module": "@jupyter-widgets/base",
            "_view_module_version": "1.2.0",
            "_view_name": "StyleView",
            "bar_color": null,
            "description_width": ""
          }
        },
        "4b036f9f6719434a837f301314e2797b": {
          "model_module": "@jupyter-widgets/base",
          "model_name": "LayoutModel",
          "model_module_version": "1.2.0",
          "state": {
            "_model_module": "@jupyter-widgets/base",
            "_model_module_version": "1.2.0",
            "_model_name": "LayoutModel",
            "_view_count": null,
            "_view_module": "@jupyter-widgets/base",
            "_view_module_version": "1.2.0",
            "_view_name": "LayoutView",
            "align_content": null,
            "align_items": null,
            "align_self": null,
            "border": null,
            "bottom": null,
            "display": null,
            "flex": null,
            "flex_flow": null,
            "grid_area": null,
            "grid_auto_columns": null,
            "grid_auto_flow": null,
            "grid_auto_rows": null,
            "grid_column": null,
            "grid_gap": null,
            "grid_row": null,
            "grid_template_areas": null,
            "grid_template_columns": null,
            "grid_template_rows": null,
            "height": null,
            "justify_content": null,
            "justify_items": null,
            "left": null,
            "margin": null,
            "max_height": null,
            "max_width": null,
            "min_height": null,
            "min_width": null,
            "object_fit": null,
            "object_position": null,
            "order": null,
            "overflow": null,
            "overflow_x": null,
            "overflow_y": null,
            "padding": null,
            "right": null,
            "top": null,
            "visibility": null,
            "width": null
          }
        },
        "f6cb9044a3574b83b1369c790247c685": {
          "model_module": "@jupyter-widgets/controls",
          "model_name": "DescriptionStyleModel",
          "model_module_version": "1.5.0",
          "state": {
            "_model_module": "@jupyter-widgets/controls",
            "_model_module_version": "1.5.0",
            "_model_name": "DescriptionStyleModel",
            "_view_count": null,
            "_view_module": "@jupyter-widgets/base",
            "_view_module_version": "1.2.0",
            "_view_name": "StyleView",
            "description_width": ""
          }
        }
      }
    }
  },
  "cells": [
    {
      "cell_type": "markdown",
      "metadata": {
        "id": "view-in-github",
        "colab_type": "text"
      },
      "source": [
        "<a href=\"https://colab.research.google.com/github/khushib004/Natural-Language-Processing/blob/main/Mental_Health_Chatbot_final.ipynb\" target=\"_parent\"><img src=\"https://colab.research.google.com/assets/colab-badge.svg\" alt=\"Open In Colab\"/></a>"
      ]
    },
    {
      "cell_type": "code",
      "source": [
        "# !pip uninstall -y tensorflow tensorflow-hub tensorflow-text keras tensorboard ml-dtypes\n",
        "!pip install --no-cache-dir tensorflow-hub==0.15\n",
        "!pip install tensorflow-text==2.15\n",
        "!pip install tensorflow==2.15"
      ],
      "metadata": {
        "id": "UhmgQbh34LOk"
      },
      "execution_count": null,
      "outputs": []
    },
    {
      "cell_type": "code",
      "execution_count": null,
      "metadata": {
        "id": "iMzLRx4NmbwB"
      },
      "outputs": [],
      "source": [
        "!pip install pandas transformers\n",
        "!pip install transformers\n",
        "!pip install torch\n",
        "!pip install datasets\n",
        "!pip install scikit-learn\n",
        "import tensorflow as tf\n",
        "import tensorflow_hub as hub\n",
        "import torch\n",
        "from transformers import BertTokenizer, BertForSequenceClassification\n",
        "from torch.utils.data import DataLoader, RandomSampler, SequentialSampler, TensorDataset\n",
        "from sklearn.model_selection import train_test_split\n",
        "from sklearn.metrics import accuracy_score\n",
        "import numpy as np\n",
        "import pandas as pd\n",
        "from transformers import Trainer, TrainingArguments\n",
        "from datasets import Dataset\n",
        "from sklearn.preprocessing import LabelEncoder\n",
        "import tensorflow_text as text\n",
        "from tensorflow.keras.utils import to_categorical"
      ]
    },
    {
      "cell_type": "markdown",
      "source": [
        "# **Data Handling And Preprocessing**"
      ],
      "metadata": {
        "id": "YzRyG6-kf2oW"
      }
    },
    {
      "cell_type": "code",
      "source": [
        "# Replace 'your_excel_file.xlsx' with the actual name of your uploaded Excel file\n",
        "file_name = 'MERGED MENTAL H DATASET (5).xlsx'\n",
        "\n",
        "# Read the Excel file\n",
        "df = pd.read_excel(file_name)\n",
        "\n",
        "# Display the first 5 rows of the DataFrame\n",
        "print(df.head())\n"
      ],
      "metadata": {
        "colab": {
          "base_uri": "https://localhost:8080/"
        },
        "id": "D8uMVjm7miST",
        "outputId": "3771ade7-62a6-4258-dd9d-3b3a3a763eab"
      },
      "execution_count": null,
      "outputs": [
        {
          "output_type": "stream",
          "name": "stdout",
          "text": [
            "  subreddit       date                                               post  \\\n",
            "0      adhd 2020-01-01  ADHD gets worse at night High school senior he...   \n",
            "1      adhd 2020-01-01  The First Step of a multi-step task Perhaps yo...   \n",
            "2      adhd 2020-01-01  I have been carrying around Play-Doh for years...   \n",
            "3      adhd 2020-01-01  How do you keep from getting bored in a relati...   \n",
            "4      adhd 2020-01-01  I need entertain Hello I used to play games li...   \n",
            "\n",
            "  Post/Pre  \n",
            "0     post  \n",
            "1     post  \n",
            "2     post  \n",
            "3     post  \n",
            "4     post  \n"
          ]
        }
      ]
    },
    {
      "cell_type": "code",
      "source": [
        "#check the distribution of labels\n",
        "df['subreddit'].value_counts()"
      ],
      "metadata": {
        "id": "7yqZXTg9miVX",
        "colab": {
          "base_uri": "https://localhost:8080/"
        },
        "outputId": "1ac0c4d8-935d-465d-bae3-07bc8c362583"
      },
      "execution_count": null,
      "outputs": [
        {
          "output_type": "execute_result",
          "data": {
            "text/plain": [
              "anxiety       58568\n",
              "depression    55887\n",
              "adhd          30298\n",
              "ptsd           6542\n",
              "alcoholism     4515\n",
              "Name: subreddit, dtype: int64"
            ]
          },
          "metadata": {},
          "execution_count": 4
        }
      ]
    },
    {
      "cell_type": "code",
      "source": [
        "#DOWNSIZING DATA\n",
        "min_samples = 6542  # Define the number of samples to match the minority class\n",
        "\n",
        "# Replace 'df_ham_downsampled' with a list of downsampled DataFrames for each subreddit\n",
        "# We use the same 'min_samples' and 'random_state' for consistency\n",
        "subreddits = ['depression', 'anxiety', 'adhd', 'ptsd']\n",
        "\n",
        "# Dictionary comprehension to downsample each subreddit DataFrame\n",
        "dfs_downsampled = {subreddit: df[df.subreddit == subreddit].sample(min_samples, random_state=2022) for subreddit in subreddits}\n",
        "\n",
        "# If you want to access one of them, for example, the downsampled DataFrame for 'depression':\n",
        "df_depression_downsampled = dfs_downsampled['depression']\n",
        "df_anxiety_downsampled = dfs_downsampled['anxiety']\n",
        "df_adhd_downsampled = dfs_downsampled['adhd']\n",
        "df_ptsd_downsampled = dfs_downsampled['ptsd']\n",
        "df_alcoholism_downsampled = df[df.subreddit == 'alcoholism']  # No downsampling applied\n"
      ],
      "metadata": {
        "id": "_b2b8MsFmiZT"
      },
      "execution_count": null,
      "outputs": []
    },
    {
      "cell_type": "code",
      "source": [
        "df_balanced = pd.concat([df_depression_downsampled, df_anxiety_downsampled,df_adhd_downsampled, df_ptsd_downsampled, df_alcoholism_downsampled])\n",
        "df_balanced.shape"
      ],
      "metadata": {
        "id": "NJN4JEQCmiab",
        "colab": {
          "base_uri": "https://localhost:8080/"
        },
        "outputId": "bd61ff2b-4370-4887-f6ac-f08af2a86621"
      },
      "execution_count": null,
      "outputs": [
        {
          "output_type": "execute_result",
          "data": {
            "text/plain": [
              "(30683, 4)"
            ]
          },
          "metadata": {},
          "execution_count": 6
        }
      ]
    },
    {
      "cell_type": "code",
      "source": [
        "df_balanced['subreddit'].value_counts()"
      ],
      "metadata": {
        "id": "8grSwROfmic-",
        "colab": {
          "base_uri": "https://localhost:8080/"
        },
        "outputId": "eda2e32d-053f-4c6c-ab1a-aed5ffdc4dab"
      },
      "execution_count": null,
      "outputs": [
        {
          "output_type": "execute_result",
          "data": {
            "text/plain": [
              "depression    6542\n",
              "anxiety       6542\n",
              "adhd          6542\n",
              "ptsd          6542\n",
              "alcoholism    4515\n",
              "Name: subreddit, dtype: int64"
            ]
          },
          "metadata": {},
          "execution_count": 7
        }
      ]
    },
    {
      "cell_type": "code",
      "source": [
        "df['label'] = df['subreddit'].map({'depression' : 0, 'anxiety': 1,'adhd' : 2, 'ptsd': 3,'alcoholism' : 4})"
      ],
      "metadata": {
        "id": "yJbnQncFq0cn"
      },
      "execution_count": null,
      "outputs": []
    },
    {
      "cell_type": "code",
      "source": [
        "df.head()"
      ],
      "metadata": {
        "id": "Ldkqry1Eq0gK",
        "colab": {
          "base_uri": "https://localhost:8080/",
          "height": 206
        },
        "outputId": "0c42b084-d99f-4059-a204-c7da3cabcf1f"
      },
      "execution_count": null,
      "outputs": [
        {
          "output_type": "execute_result",
          "data": {
            "text/plain": [
              "  subreddit       date                                               post  \\\n",
              "0      adhd 2020-01-01  ADHD gets worse at night High school senior he...   \n",
              "1      adhd 2020-01-01  The First Step of a multi-step task Perhaps yo...   \n",
              "2      adhd 2020-01-01  I have been carrying around Play-Doh for years...   \n",
              "3      adhd 2020-01-01  How do you keep from getting bored in a relati...   \n",
              "4      adhd 2020-01-01  I need entertain Hello I used to play games li...   \n",
              "\n",
              "  Post/Pre  label  \n",
              "0     post      2  \n",
              "1     post      2  \n",
              "2     post      2  \n",
              "3     post      2  \n",
              "4     post      2  "
            ],
            "text/html": [
              "\n",
              "  <div id=\"df-7bd337d7-f107-440b-9b9c-9e903eb7f51b\" class=\"colab-df-container\">\n",
              "    <div>\n",
              "<style scoped>\n",
              "    .dataframe tbody tr th:only-of-type {\n",
              "        vertical-align: middle;\n",
              "    }\n",
              "\n",
              "    .dataframe tbody tr th {\n",
              "        vertical-align: top;\n",
              "    }\n",
              "\n",
              "    .dataframe thead th {\n",
              "        text-align: right;\n",
              "    }\n",
              "</style>\n",
              "<table border=\"1\" class=\"dataframe\">\n",
              "  <thead>\n",
              "    <tr style=\"text-align: right;\">\n",
              "      <th></th>\n",
              "      <th>subreddit</th>\n",
              "      <th>date</th>\n",
              "      <th>post</th>\n",
              "      <th>Post/Pre</th>\n",
              "      <th>label</th>\n",
              "    </tr>\n",
              "  </thead>\n",
              "  <tbody>\n",
              "    <tr>\n",
              "      <th>0</th>\n",
              "      <td>adhd</td>\n",
              "      <td>2020-01-01</td>\n",
              "      <td>ADHD gets worse at night High school senior he...</td>\n",
              "      <td>post</td>\n",
              "      <td>2</td>\n",
              "    </tr>\n",
              "    <tr>\n",
              "      <th>1</th>\n",
              "      <td>adhd</td>\n",
              "      <td>2020-01-01</td>\n",
              "      <td>The First Step of a multi-step task Perhaps yo...</td>\n",
              "      <td>post</td>\n",
              "      <td>2</td>\n",
              "    </tr>\n",
              "    <tr>\n",
              "      <th>2</th>\n",
              "      <td>adhd</td>\n",
              "      <td>2020-01-01</td>\n",
              "      <td>I have been carrying around Play-Doh for years...</td>\n",
              "      <td>post</td>\n",
              "      <td>2</td>\n",
              "    </tr>\n",
              "    <tr>\n",
              "      <th>3</th>\n",
              "      <td>adhd</td>\n",
              "      <td>2020-01-01</td>\n",
              "      <td>How do you keep from getting bored in a relati...</td>\n",
              "      <td>post</td>\n",
              "      <td>2</td>\n",
              "    </tr>\n",
              "    <tr>\n",
              "      <th>4</th>\n",
              "      <td>adhd</td>\n",
              "      <td>2020-01-01</td>\n",
              "      <td>I need entertain Hello I used to play games li...</td>\n",
              "      <td>post</td>\n",
              "      <td>2</td>\n",
              "    </tr>\n",
              "  </tbody>\n",
              "</table>\n",
              "</div>\n",
              "    <div class=\"colab-df-buttons\">\n",
              "\n",
              "  <div class=\"colab-df-container\">\n",
              "    <button class=\"colab-df-convert\" onclick=\"convertToInteractive('df-7bd337d7-f107-440b-9b9c-9e903eb7f51b')\"\n",
              "            title=\"Convert this dataframe to an interactive table.\"\n",
              "            style=\"display:none;\">\n",
              "\n",
              "  <svg xmlns=\"http://www.w3.org/2000/svg\" height=\"24px\" viewBox=\"0 -960 960 960\">\n",
              "    <path d=\"M120-120v-720h720v720H120Zm60-500h600v-160H180v160Zm220 220h160v-160H400v160Zm0 220h160v-160H400v160ZM180-400h160v-160H180v160Zm440 0h160v-160H620v160ZM180-180h160v-160H180v160Zm440 0h160v-160H620v160Z\"/>\n",
              "  </svg>\n",
              "    </button>\n",
              "\n",
              "  <style>\n",
              "    .colab-df-container {\n",
              "      display:flex;\n",
              "      gap: 12px;\n",
              "    }\n",
              "\n",
              "    .colab-df-convert {\n",
              "      background-color: #E8F0FE;\n",
              "      border: none;\n",
              "      border-radius: 50%;\n",
              "      cursor: pointer;\n",
              "      display: none;\n",
              "      fill: #1967D2;\n",
              "      height: 32px;\n",
              "      padding: 0 0 0 0;\n",
              "      width: 32px;\n",
              "    }\n",
              "\n",
              "    .colab-df-convert:hover {\n",
              "      background-color: #E2EBFA;\n",
              "      box-shadow: 0px 1px 2px rgba(60, 64, 67, 0.3), 0px 1px 3px 1px rgba(60, 64, 67, 0.15);\n",
              "      fill: #174EA6;\n",
              "    }\n",
              "\n",
              "    .colab-df-buttons div {\n",
              "      margin-bottom: 4px;\n",
              "    }\n",
              "\n",
              "    [theme=dark] .colab-df-convert {\n",
              "      background-color: #3B4455;\n",
              "      fill: #D2E3FC;\n",
              "    }\n",
              "\n",
              "    [theme=dark] .colab-df-convert:hover {\n",
              "      background-color: #434B5C;\n",
              "      box-shadow: 0px 1px 3px 1px rgba(0, 0, 0, 0.15);\n",
              "      filter: drop-shadow(0px 1px 2px rgba(0, 0, 0, 0.3));\n",
              "      fill: #FFFFFF;\n",
              "    }\n",
              "  </style>\n",
              "\n",
              "    <script>\n",
              "      const buttonEl =\n",
              "        document.querySelector('#df-7bd337d7-f107-440b-9b9c-9e903eb7f51b button.colab-df-convert');\n",
              "      buttonEl.style.display =\n",
              "        google.colab.kernel.accessAllowed ? 'block' : 'none';\n",
              "\n",
              "      async function convertToInteractive(key) {\n",
              "        const element = document.querySelector('#df-7bd337d7-f107-440b-9b9c-9e903eb7f51b');\n",
              "        const dataTable =\n",
              "          await google.colab.kernel.invokeFunction('convertToInteractive',\n",
              "                                                    [key], {});\n",
              "        if (!dataTable) return;\n",
              "\n",
              "        const docLinkHtml = 'Like what you see? Visit the ' +\n",
              "          '<a target=\"_blank\" href=https://colab.research.google.com/notebooks/data_table.ipynb>data table notebook</a>'\n",
              "          + ' to learn more about interactive tables.';\n",
              "        element.innerHTML = '';\n",
              "        dataTable['output_type'] = 'display_data';\n",
              "        await google.colab.output.renderOutput(dataTable, element);\n",
              "        const docLink = document.createElement('div');\n",
              "        docLink.innerHTML = docLinkHtml;\n",
              "        element.appendChild(docLink);\n",
              "      }\n",
              "    </script>\n",
              "  </div>\n",
              "\n",
              "\n",
              "<div id=\"df-2fd41dec-7c33-4b61-bf45-3562506a4e85\">\n",
              "  <button class=\"colab-df-quickchart\" onclick=\"quickchart('df-2fd41dec-7c33-4b61-bf45-3562506a4e85')\"\n",
              "            title=\"Suggest charts\"\n",
              "            style=\"display:none;\">\n",
              "\n",
              "<svg xmlns=\"http://www.w3.org/2000/svg\" height=\"24px\"viewBox=\"0 0 24 24\"\n",
              "     width=\"24px\">\n",
              "    <g>\n",
              "        <path d=\"M19 3H5c-1.1 0-2 .9-2 2v14c0 1.1.9 2 2 2h14c1.1 0 2-.9 2-2V5c0-1.1-.9-2-2-2zM9 17H7v-7h2v7zm4 0h-2V7h2v10zm4 0h-2v-4h2v4z\"/>\n",
              "    </g>\n",
              "</svg>\n",
              "  </button>\n",
              "\n",
              "<style>\n",
              "  .colab-df-quickchart {\n",
              "      --bg-color: #E8F0FE;\n",
              "      --fill-color: #1967D2;\n",
              "      --hover-bg-color: #E2EBFA;\n",
              "      --hover-fill-color: #174EA6;\n",
              "      --disabled-fill-color: #AAA;\n",
              "      --disabled-bg-color: #DDD;\n",
              "  }\n",
              "\n",
              "  [theme=dark] .colab-df-quickchart {\n",
              "      --bg-color: #3B4455;\n",
              "      --fill-color: #D2E3FC;\n",
              "      --hover-bg-color: #434B5C;\n",
              "      --hover-fill-color: #FFFFFF;\n",
              "      --disabled-bg-color: #3B4455;\n",
              "      --disabled-fill-color: #666;\n",
              "  }\n",
              "\n",
              "  .colab-df-quickchart {\n",
              "    background-color: var(--bg-color);\n",
              "    border: none;\n",
              "    border-radius: 50%;\n",
              "    cursor: pointer;\n",
              "    display: none;\n",
              "    fill: var(--fill-color);\n",
              "    height: 32px;\n",
              "    padding: 0;\n",
              "    width: 32px;\n",
              "  }\n",
              "\n",
              "  .colab-df-quickchart:hover {\n",
              "    background-color: var(--hover-bg-color);\n",
              "    box-shadow: 0 1px 2px rgba(60, 64, 67, 0.3), 0 1px 3px 1px rgba(60, 64, 67, 0.15);\n",
              "    fill: var(--button-hover-fill-color);\n",
              "  }\n",
              "\n",
              "  .colab-df-quickchart-complete:disabled,\n",
              "  .colab-df-quickchart-complete:disabled:hover {\n",
              "    background-color: var(--disabled-bg-color);\n",
              "    fill: var(--disabled-fill-color);\n",
              "    box-shadow: none;\n",
              "  }\n",
              "\n",
              "  .colab-df-spinner {\n",
              "    border: 2px solid var(--fill-color);\n",
              "    border-color: transparent;\n",
              "    border-bottom-color: var(--fill-color);\n",
              "    animation:\n",
              "      spin 1s steps(1) infinite;\n",
              "  }\n",
              "\n",
              "  @keyframes spin {\n",
              "    0% {\n",
              "      border-color: transparent;\n",
              "      border-bottom-color: var(--fill-color);\n",
              "      border-left-color: var(--fill-color);\n",
              "    }\n",
              "    20% {\n",
              "      border-color: transparent;\n",
              "      border-left-color: var(--fill-color);\n",
              "      border-top-color: var(--fill-color);\n",
              "    }\n",
              "    30% {\n",
              "      border-color: transparent;\n",
              "      border-left-color: var(--fill-color);\n",
              "      border-top-color: var(--fill-color);\n",
              "      border-right-color: var(--fill-color);\n",
              "    }\n",
              "    40% {\n",
              "      border-color: transparent;\n",
              "      border-right-color: var(--fill-color);\n",
              "      border-top-color: var(--fill-color);\n",
              "    }\n",
              "    60% {\n",
              "      border-color: transparent;\n",
              "      border-right-color: var(--fill-color);\n",
              "    }\n",
              "    80% {\n",
              "      border-color: transparent;\n",
              "      border-right-color: var(--fill-color);\n",
              "      border-bottom-color: var(--fill-color);\n",
              "    }\n",
              "    90% {\n",
              "      border-color: transparent;\n",
              "      border-bottom-color: var(--fill-color);\n",
              "    }\n",
              "  }\n",
              "</style>\n",
              "\n",
              "  <script>\n",
              "    async function quickchart(key) {\n",
              "      const quickchartButtonEl =\n",
              "        document.querySelector('#' + key + ' button');\n",
              "      quickchartButtonEl.disabled = true;  // To prevent multiple clicks.\n",
              "      quickchartButtonEl.classList.add('colab-df-spinner');\n",
              "      try {\n",
              "        const charts = await google.colab.kernel.invokeFunction(\n",
              "            'suggestCharts', [key], {});\n",
              "      } catch (error) {\n",
              "        console.error('Error during call to suggestCharts:', error);\n",
              "      }\n",
              "      quickchartButtonEl.classList.remove('colab-df-spinner');\n",
              "      quickchartButtonEl.classList.add('colab-df-quickchart-complete');\n",
              "    }\n",
              "    (() => {\n",
              "      let quickchartButtonEl =\n",
              "        document.querySelector('#df-2fd41dec-7c33-4b61-bf45-3562506a4e85 button');\n",
              "      quickchartButtonEl.style.display =\n",
              "        google.colab.kernel.accessAllowed ? 'block' : 'none';\n",
              "    })();\n",
              "  </script>\n",
              "</div>\n",
              "    </div>\n",
              "  </div>\n"
            ],
            "application/vnd.google.colaboratory.intrinsic+json": {
              "type": "dataframe",
              "variable_name": "df"
            }
          },
          "metadata": {},
          "execution_count": 9
        }
      ]
    },
    {
      "cell_type": "markdown",
      "source": [
        "# **BERT for Tokenization and Vectorization**"
      ],
      "metadata": {
        "id": "Vml9iZvggbF-"
      }
    },
    {
      "cell_type": "code",
      "source": [
        "from transformers import BertTokenizer\n",
        "import torch\n",
        "\n",
        "# Initialize the BERT tokenizer\n",
        "tokenizer = BertTokenizer.from_pretrained('bert-base-uncased')\n",
        "\n",
        "# Define the max length for BERT\n",
        "max_length = 128  # You can adjust this according to the needs and constraints of your model\n",
        "\n",
        "# Function to tokenize and encode the dataset\n",
        "def encode_texts(texts):\n",
        "    input_ids = []\n",
        "    attention_masks = []\n",
        "\n",
        "    for text in texts:\n",
        "        encoded_dict = tokenizer.encode_plus(\n",
        "            text,                        # Text to encode\n",
        "            add_special_tokens=True,     # Add '[CLS]' and '[SEP]'\n",
        "            max_length=max_length,       # Pad or truncate\n",
        "            pad_to_max_length=True,      # Pad all to `max_length` if necessary\n",
        "            return_attention_mask=True,  # Construct attn. masks\n",
        "            return_tensors='pt',         # Return pytorch tensors\n",
        "        )\n",
        "\n",
        "        # Add the encoded sentence to the list\n",
        "        input_ids.append(encoded_dict['input_ids'])\n",
        "        # And its attention mask (differentiating padding from non-padding)\n",
        "        attention_masks.append(encoded_dict['attention_mask'])\n",
        "\n",
        "    # Convert lists to tensors\n",
        "    input_ids = torch.cat(input_ids, dim=0)\n",
        "    attention_masks = torch.cat(attention_masks, dim=0)\n",
        "\n",
        "    return input_ids, attention_masks\n",
        "\n",
        "# Preprocess the 'post' column\n",
        "posts = df['post'].values  # Extract text data to preprocess\n",
        "input_ids, attention_masks = encode_texts(posts)\n"
      ],
      "metadata": {
        "id": "B6weTYGdq0jb",
        "colab": {
          "base_uri": "https://localhost:8080/",
          "height": 219,
          "referenced_widgets": [
            "b8110b066cd44c6d93dcf2686bcf2257",
            "be0004383a65405c97618adee9259ce9",
            "3f2a5acdfe9a4e66ac48f6c3fe483c84",
            "dc388f4935bf4d95835a66a1fd2026ae",
            "a86c03f8a69340038632b17bdd0b378b",
            "b2ff672341954ffd989a2f58872ad3cd",
            "b921b40e6ecb46c68e082c545e2390ac",
            "c489dc740a4240e59906486375e53692",
            "7d2c44356df147e68d5ce6901802e4fb",
            "7cd1f3c822094ce0a442c4d1b073fdbc",
            "3f10b6e8d2eb4cdb9a75e65cd4f72c05",
            "0c12caab8bb9465b90cabba856aa2b77",
            "64ae7e44922b4176a643e82554539868",
            "d99b2a1f855d433e85daab73ac6d66ba",
            "c0a8d94e7a1f497682b32d0028d2ed1a",
            "2a17d658b0d84bb0a87a223c901b724d",
            "e9f34ed1c8db455884ccf8ef07f5f414",
            "e1c8caa26d90479e9dcf1fc1144e0be8",
            "a7e13b9621d34bbba5c42f19abaa523d",
            "0c627fe970f3438d82f8a9f2544267c2",
            "9f3fba299c0841b9b9b0101161008e7e",
            "4ad744b877914ba0bbba443a035b6924",
            "9fde1b33b42f4386b2ef99a29554e98b",
            "6a55c4a0dab840329c7d9bb0635375cc",
            "e4ed1595eb0d4a1eb4e90f784eef3cc4",
            "4870462dcba042f08a7f00358048161a",
            "a42c11d328c34f6fb2eb01517ba0176c",
            "4a6713d1406b4ed89ef8e67e68e74443",
            "a20f143d69394b18b1a58faf829cebcb",
            "1a2f735e1adb46c693cc63a23fac748f",
            "23e57f5baa0e41fe80b05130f93bc887",
            "28110dc946c24f299f99c714ac513a06",
            "e8dda0282eaa464d9ab27b407fd996a6",
            "0ee2de1540ff4ccdae0bc60f084881fd",
            "e311dab96eac422ea3588ee09af295ff",
            "e8437da091614688907e3f5e243cd8f8",
            "4d588188153a4b83b7a23ea9c2130d93",
            "ffb61fe27890478c8c984b653228c4e9",
            "c3d9dd2e513b4115baff18c4d8ffee88",
            "69bdd630cf164bbba093101be0d127d0",
            "5b35dd69065a4d9dad99ceaf9cf083aa",
            "b32c839985c34cddb5e7327d54629b2f",
            "4b036f9f6719434a837f301314e2797b",
            "f6cb9044a3574b83b1369c790247c685"
          ]
        },
        "outputId": "e24a656f-74d6-48bd-ff0d-e87978e86d12"
      },
      "execution_count": null,
      "outputs": [
        {
          "output_type": "display_data",
          "data": {
            "text/plain": [
              "tokenizer_config.json:   0%|          | 0.00/48.0 [00:00<?, ?B/s]"
            ],
            "application/vnd.jupyter.widget-view+json": {
              "version_major": 2,
              "version_minor": 0,
              "model_id": "b8110b066cd44c6d93dcf2686bcf2257"
            }
          },
          "metadata": {}
        },
        {
          "output_type": "display_data",
          "data": {
            "text/plain": [
              "vocab.txt:   0%|          | 0.00/232k [00:00<?, ?B/s]"
            ],
            "application/vnd.jupyter.widget-view+json": {
              "version_major": 2,
              "version_minor": 0,
              "model_id": "0c12caab8bb9465b90cabba856aa2b77"
            }
          },
          "metadata": {}
        },
        {
          "output_type": "display_data",
          "data": {
            "text/plain": [
              "tokenizer.json:   0%|          | 0.00/466k [00:00<?, ?B/s]"
            ],
            "application/vnd.jupyter.widget-view+json": {
              "version_major": 2,
              "version_minor": 0,
              "model_id": "9fde1b33b42f4386b2ef99a29554e98b"
            }
          },
          "metadata": {}
        },
        {
          "output_type": "display_data",
          "data": {
            "text/plain": [
              "config.json:   0%|          | 0.00/570 [00:00<?, ?B/s]"
            ],
            "application/vnd.jupyter.widget-view+json": {
              "version_major": 2,
              "version_minor": 0,
              "model_id": "0ee2de1540ff4ccdae0bc60f084881fd"
            }
          },
          "metadata": {}
        },
        {
          "output_type": "stream",
          "name": "stderr",
          "text": [
            "Truncation was not explicitly activated but `max_length` is provided a specific value, please use `truncation=True` to explicitly truncate examples to max length. Defaulting to 'longest_first' truncation strategy. If you encode pairs of sequences (GLUE-style) with the tokenizer you can select this strategy more precisely by providing a specific strategy to `truncation`.\n",
            "/usr/local/lib/python3.10/dist-packages/transformers/tokenization_utils_base.py:2645: FutureWarning: The `pad_to_max_length` argument is deprecated and will be removed in a future version, use `padding=True` or `padding='longest'` to pad to the longest sequence in the batch, or use `padding='max_length'` to pad to a max length. In this case, you can give a specific length with `max_length` (e.g. `max_length=45`) or leave max_length to None to pad to the maximal input size of the model (e.g. 512 for Bert).\n",
            "  warnings.warn(\n"
          ]
        }
      ]
    },
    {
      "cell_type": "markdown",
      "source": [
        "# **Model Architecture and Training Process**\n"
      ],
      "metadata": {
        "id": "ywnmFnU6gi2n"
      }
    },
    {
      "cell_type": "code",
      "source": [
        "# Parameters\n",
        "BATCH_SIZE = 16\n",
        "EPOCHS = 3\n",
        "\n",
        "# Load and preprocess dataset\n",
        "# df = pd.read_csv('your_large_dataset.csv')  # Load your dataset\n",
        "posts = df['post'].values\n",
        "subreddits = df['subreddit'].values\n",
        "\n",
        "# Encode labels\n",
        "label_encoder = LabelEncoder()\n",
        "subreddits_encoded = label_encoder.fit_transform(subreddits)\n",
        "subreddits_encoded = to_categorical(subreddits_encoded)\n",
        "\n",
        "# Split dataset\n",
        "train_posts, test_posts, train_labels, test_labels = train_test_split(posts, subreddits_encoded, test_size=0.1)\n",
        "\n",
        "# Convert to tf.data.Dataset for efficient loading\n",
        "AUTOTUNE = tf.data.experimental.AUTOTUNE\n",
        "train_data = tf.data.Dataset.from_tensor_slices((train_posts, train_labels))\n",
        "train_data = train_data.shuffle(buffer_size=len(train_posts)).batch(BATCH_SIZE).prefetch(buffer_size=AUTOTUNE)\n",
        "test_data = tf.data.Dataset.from_tensor_slices((test_posts, test_labels)).batch(BATCH_SIZE).prefetch(buffer_size=AUTOTUNE)\n",
        "\n",
        "# BERT layers\n",
        "bert_preprocess_model_url = 'https://tfhub.dev/tensorflow/bert_en_uncased_preprocess/3'\n",
        "bert_model_url = 'https://tfhub.dev/tensorflow/small_bert/bert_en_uncased_L-2_H-128_A-2/2'\n",
        "\n",
        "# Build the model\n",
        "text_input = tf.keras.layers.Input(shape=(), dtype=tf.string, name='text')\n",
        "preprocessor = hub.KerasLayer(bert_preprocess_model_url, name='preprocessing')\n",
        "encoder_inputs = preprocessor(text_input)\n",
        "encoder = hub.KerasLayer(bert_model_url, trainable=True, name='BERT_encoder')\n",
        "outputs = encoder(encoder_inputs)\n",
        "net = outputs['pooled_output']\n",
        "net = tf.keras.layers.Dropout(0.1)(net)\n",
        "net = tf.keras.layers.Dense(subreddits_encoded.shape[1], activation='softmax', name='classifier')(net)\n",
        "model = tf.keras.Model(text_input, net)\n",
        "\n",
        "# Compile the model\n",
        "model.compile(optimizer=tf.keras.optimizers.Adam(learning_rate=5e-5), loss='categorical_crossentropy', metrics=['accuracy'])\n",
        "\n",
        "# Train the model\n",
        "model.fit(train_data, epochs=EPOCHS, validation_data=test_data)\n",
        "\n",
        "# Evaluate the model\n",
        "model.evaluate(test_data)"
      ],
      "metadata": {
        "id": "xJYQvOLnq0kM",
        "colab": {
          "base_uri": "https://localhost:8080/"
        },
        "outputId": "5ca5c138-3ee2-4e37-e8ad-5c9a0d29842a"
      },
      "execution_count": null,
      "outputs": [
        {
          "output_type": "stream",
          "name": "stdout",
          "text": [
            "Epoch 1/3\n",
            "8765/8765 [==============================] - 2866s 326ms/step - loss: 0.5125 - accuracy: 0.8139 - val_loss: 0.3867 - val_accuracy: 0.8652\n",
            "Epoch 2/3\n",
            "8765/8765 [==============================] - 2807s 320ms/step - loss: 0.3831 - accuracy: 0.8642 - val_loss: 0.3677 - val_accuracy: 0.8699\n",
            "Epoch 3/3\n",
            "8765/8765 [==============================] - 2815s 321ms/step - loss: 0.3407 - accuracy: 0.8797 - val_loss: 0.3670 - val_accuracy: 0.8738\n",
            "974/974 [==============================] - 87s 89ms/step - loss: 0.3670 - accuracy: 0.8738\n"
          ]
        },
        {
          "output_type": "execute_result",
          "data": {
            "text/plain": [
              "[0.3670276701450348, 0.8737565279006958]"
            ]
          },
          "metadata": {},
          "execution_count": 20
        }
      ]
    },
    {
      "cell_type": "code",
      "source": [
        "loss, accuracy = model.evaluate(test_data)\n",
        "print(f'Test Loss: {loss}')\n",
        "print(f'Test Accuracy: {accuracy}')"
      ],
      "metadata": {
        "id": "ZnfAE6d6q0mq",
        "colab": {
          "base_uri": "https://localhost:8080/"
        },
        "outputId": "34e77e06-0800-4030-a3ea-97ce9ae1b102"
      },
      "execution_count": null,
      "outputs": [
        {
          "output_type": "stream",
          "name": "stdout",
          "text": [
            "974/974 [==============================] - 135s 138ms/step - loss: 0.3670 - accuracy: 0.8738\n",
            "Test Loss: 0.3670276701450348\n",
            "Test Accuracy: 0.8737565279006958\n"
          ]
        }
      ]
    },
    {
      "cell_type": "code",
      "source": [
        "predictions = model.predict(test_data)\n",
        "predicted_labels = np.argmax(predictions, axis=1)"
      ],
      "metadata": {
        "id": "n42M-Q6Wq0uz",
        "colab": {
          "base_uri": "https://localhost:8080/"
        },
        "outputId": "39f7bc1c-6ed4-4aa5-ed95-68a893b827a0"
      },
      "execution_count": null,
      "outputs": [
        {
          "output_type": "stream",
          "name": "stdout",
          "text": [
            "974/974 [==============================] - 86s 88ms/step\n"
          ]
        }
      ]
    },
    {
      "cell_type": "markdown",
      "source": [
        "# **Error** **Analysis**"
      ],
      "metadata": {
        "id": "pXx3KfL2fNLj"
      }
    },
    {
      "cell_type": "code",
      "source": [
        "from sklearn.metrics import classification_report\n",
        "\n",
        "# Convert test labels from one-hot encoding to integers\n",
        "test_labels_integers = np.argmax(test_labels, axis=1)\n",
        "\n",
        "# Convert predicted labels back to original subreddit labels\n",
        "predicted_subreddits = label_encoder.inverse_transform(predicted_labels)\n",
        "true_subreddits = label_encoder.inverse_transform(test_labels_integers)\n",
        "\n",
        "# Generate and print the classification report\n",
        "print(classification_report(true_subreddits, predicted_subreddits, target_names=label_encoder.classes_))\n"
      ],
      "metadata": {
        "id": "RWuANCL8zXkM",
        "colab": {
          "base_uri": "https://localhost:8080/"
        },
        "outputId": "8cd2507c-6c79-42f3-fce4-6eae133897ed"
      },
      "execution_count": null,
      "outputs": [
        {
          "output_type": "stream",
          "name": "stdout",
          "text": [
            "              precision    recall  f1-score   support\n",
            "\n",
            "        adhd       0.90      0.90      0.90      2979\n",
            "  alcoholism       0.89      0.85      0.87       462\n",
            "     anxiety       0.87      0.88      0.87      5917\n",
            "  depression       0.87      0.86      0.87      5611\n",
            "        ptsd       0.78      0.78      0.78       612\n",
            "\n",
            "    accuracy                           0.87     15581\n",
            "   macro avg       0.86      0.85      0.86     15581\n",
            "weighted avg       0.87      0.87      0.87     15581\n",
            "\n"
          ]
        }
      ]
    },
    {
      "cell_type": "code",
      "source": [
        "from sklearn.metrics import confusion_matrix\n",
        "import seaborn as sns\n",
        "import matplotlib.pyplot as plt\n",
        "\n",
        "# Assuming true_subreddits and predicted_subreddits are your actual and predicted labels respectively\n",
        "# You may need to run your prediction and label encoding steps again if they're not stored\n",
        "\n",
        "# Compute the confusion matrix\n",
        "cm = confusion_matrix(true_subreddits, predicted_subreddits, labels=label_encoder.classes_)\n",
        "\n",
        "# Plot the confusion matrix using Seaborn heatmap\n",
        "plt.figure(figsize=(10, 7))\n",
        "sns.heatmap(cm, annot=True, fmt='d', cmap='Blues', xticklabels=label_encoder.classes_, yticklabels=label_encoder.classes_)\n",
        "plt.title('Confusion Matrix')\n",
        "plt.xlabel('Predicted Labels')\n",
        "plt.ylabel('True Labels')\n",
        "plt.show()"
      ],
      "metadata": {
        "id": "gP2pda7YhEFb",
        "colab": {
          "base_uri": "https://localhost:8080/",
          "height": 641
        },
        "outputId": "be78c5af-cb9f-44fa-f466-4c5234a53506"
      },
      "execution_count": null,
      "outputs": [
        {
          "output_type": "display_data",
          "data": {
            "text/plain": [
              "<Figure size 1000x700 with 2 Axes>"
            ],
            "image/png": "[encoded data removed]"
          },
          "metadata": {}
        }
      ]
    },
    {
      "cell_type": "markdown",
      "source": [
        "# **Testing**"
      ],
      "metadata": {
        "id": "LGxThb10fCHs"
      }
    },
    {
      "cell_type": "code",
      "source": [
        "#PTSD RANDOM COMMENT\n",
        "new_posts = [\"anyone have any advice on projecting? i told my counselor about how one of my biggest issues is projecting trauma onto other people and she only kind of explained why i probably do it, but didn't really give me any advice on what to do about it. has anyone dealt with this and figured out ways of not doing it? i hate that i do it because it's not fair for me to be projecting past things onto other people that have nothing to do with it\"]  # Add your text here\n",
        "processed_posts = tf.data.Dataset.from_tensor_slices((new_posts, [0]))  # Dummy labels\n",
        "processed_posts = processed_posts.batch(BATCH_SIZE).prefetch(buffer_size=AUTOTUNE)\n",
        "\n",
        "# Predicting new texts\n",
        "new_predictions = model.predict(processed_posts)\n",
        "new_predicted_labels = np.argmax(new_predictions, axis=1)\n",
        "new_predicted_labels = label_encoder.inverse_transform(new_predicted_labels)  # Convert back to original labels\n",
        "print(new_predicted_labels)\n"
      ],
      "metadata": {
        "id": "WcDfvtBSzKM4",
        "colab": {
          "base_uri": "https://localhost:8080/"
        },
        "outputId": "dad3fc59-0f5e-49f9-bfae-5efe1b56175d"
      },
      "execution_count": null,
      "outputs": [
        {
          "output_type": "stream",
          "name": "stdout",
          "text": [
            "1/1 [==============================] - 0s 416ms/step\n",
            "['ptsd']\n"
          ]
        }
      ]
    },
    {
      "cell_type": "code",
      "source": [
        "#ADHD RANDOM COMMENT\n",
        "new_posts = [\"English assignment So i have to do this English assignment about how certain groups are misrepresented in the media, i hyper focused it in one night and the speech was brilliant, problem was i didn't understand the scaffolding and spoke about how the misrepresentations were wrong and not how they are actually being misrepresented, anyways i have to rewrite alot of it and it's due after this weekend. I need a text that shows a misrepresentation of ADHD that is Australian. It can be a movie, poem or news report. Fuck this is the only place i thought i could put this and my teacher is a hard ass stalinist marker.\"]\n",
        "processed_posts = tf.data.Dataset.from_tensor_slices((new_posts, [0]))  # Dummy labels\n",
        "processed_posts = processed_posts.batch(BATCH_SIZE).prefetch(buffer_size=AUTOTUNE)\n",
        "\n",
        "# Predicting new texts\n",
        "new_predictions = model.predict(processed_posts)\n",
        "new_predicted_labels = np.argmax(new_predictions, axis=1)\n",
        "new_predicted_labels = label_encoder.inverse_transform(new_predicted_labels)  # Convert back to original labels\n",
        "print(new_predicted_labels)"
      ],
      "metadata": {
        "id": "3ymEmeq0e_6j",
        "colab": {
          "base_uri": "https://localhost:8080/"
        },
        "outputId": "61068043-e785-4a56-d250-93ff8899c7ed"
      },
      "execution_count": null,
      "outputs": [
        {
          "output_type": "stream",
          "name": "stdout",
          "text": [
            "1/1 [==============================] - 0s 25ms/step\n",
            "['adhd']\n"
          ]
        }
      ]
    },
    {
      "cell_type": "code",
      "source": [
        "#ALCOHOLISM RANDOM COMMENT\n",
        "new_posts = [\"Looking for answers So this is new to me. I‚Äôm going to be brief. And if this isn‚Äôt the right forum for it please redirect me where I should go. I‚Äôm not an alcoholic, in my own eyes anyway. I don‚Äôt drink everyday. I don‚Äôt crave alcohol. I have no issues being sober. The problem is when I do drink I binge. Sometimes I can sit and have a few drinks and just be fine. But most times I drink way past the point I ever should. I don‚Äôt know what I should do.  I‚Äôve debated giving up drinking completely. I‚Äôve debated giving myself a one drink limit. I was just wondering if anyone had any similar experiences? Any help is welcome!\"]\n",
        "processed_posts = tf.data.Dataset.from_tensor_slices((new_posts, [0]))  # Dummy labels\n",
        "processed_posts = processed_posts.batch(BATCH_SIZE).prefetch(buffer_size=AUTOTUNE)\n",
        "\n",
        "# Predicting new texts\n",
        "new_predictions = model.predict(processed_posts)\n",
        "new_predicted_labels = np.argmax(new_predictions, axis=1)\n",
        "new_predicted_labels = label_encoder.inverse_transform(new_predicted_labels)  # Convert back to original labels\n",
        "print(new_predicted_labels)"
      ],
      "metadata": {
        "colab": {
          "base_uri": "https://localhost:8080/"
        },
        "id": "lDsR6FdhY_QI",
        "outputId": "70e5f66f-772a-42b3-bb75-4344bdb061f2"
      },
      "execution_count": null,
      "outputs": [
        {
          "output_type": "stream",
          "name": "stdout",
          "text": [
            "1/1 [==============================] - 0s 21ms/step\n",
            "['alcoholism']\n"
          ]
        }
      ]
    }
  ]
}